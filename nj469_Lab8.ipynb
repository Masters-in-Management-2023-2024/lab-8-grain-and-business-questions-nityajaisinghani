{
  "cells": [
    {
      "cell_type": "markdown",
      "metadata": {
        "id": "lcoiCh5a8i-t"
      },
      "source": [
        "# Diamond Company Analytics Challenge\n",
        "\n",
        "**Time:** 35 minutes\n",
        "\n",
        "**Scenario:** You are the new data analyst at a prestigious diamond company. The CEO has called an urgent meeting and needs answers to critical business questions about the inventory.\n",
        "\n",
        "**Your Mission:** Analyze the diamond inventory data and provide insights to guide strategic decisions."
      ]
    },
    {
      "cell_type": "code",
      "execution_count": null,
      "metadata": {
        "id": "RZP-kR2L8i-v",
        "colab": {
          "base_uri": "https://localhost:8080/"
        },
        "outputId": "cd20c1ff-9f2a-4398-b97c-873c4cedb899"
      },
      "outputs": [
        {
          "output_type": "stream",
          "name": "stdout",
          "text": [
            "Loading diamonds dataset...\n",
            "Dataset loaded successfully!\n"
          ]
        }
      ],
      "source": [
        "import polars as pl\n",
        "\n",
        "# Load the diamonds dataset\n",
        "print(\"Loading diamonds dataset...\")\n",
        "df = pl.read_csv('https://raw.githubusercontent.com/pycaret/pycaret/master/datasets/diamond.csv')\n",
        "print(\"Dataset loaded successfully!\")"
      ]
    },
    {
      "cell_type": "markdown",
      "metadata": {
        "id": "bw2vjL6N8i-w"
      },
      "source": [
        "## Section 1: Initial Inventory Assessment (5 minutes)\n",
        "\n",
        "The CEO walks in: \"Before we dive into specifics, I need to understand what we're working with. Give me the basics about our inventory database.\""
      ]
    },
    {
      "cell_type": "markdown",
      "metadata": {
        "id": "Xi-2ED2F8i-w"
      },
      "source": [
        "### Question 1: \"How extensive is our inventory database?\"\n",
        "\n",
        "The CEO needs to know the scale of data you're analyzing."
      ]
    },
    {
      "cell_type": "code",
      "execution_count": null,
      "metadata": {
        "id": "kLnIB2Xv8i-x",
        "colab": {
          "base_uri": "https://localhost:8080/"
        },
        "outputId": "3f005e9d-5d01-4089-8ba1-e906e00ecb1d"
      },
      "outputs": [
        {
          "output_type": "stream",
          "name": "stdout",
          "text": [
            "Rows: 6,000\n",
            "Columns: 8\n"
          ]
        }
      ],
      "source": [
        "# Your code here:\n",
        "n_rows, n_cols = df.height, df.width\n",
        "print(f\"Rows: {n_rows:,}\")\n",
        "print(f\"Columns: {n_cols}\")\n"
      ]
    },
    {
      "cell_type": "markdown",
      "metadata": {
        "id": "lcbFg8LE8i-x"
      },
      "source": [
        "### Question 2: \"What information do we track about each diamond?\"\n",
        "\n",
        "List all the characteristics we record."
      ]
    },
    {
      "cell_type": "code",
      "execution_count": null,
      "metadata": {
        "id": "PgAUvB8d8i-x",
        "colab": {
          "base_uri": "https://localhost:8080/"
        },
        "outputId": "0d1475c4-2a53-4bd4-8c10-6f3614f1b83c"
      },
      "outputs": [
        {
          "output_type": "stream",
          "name": "stdout",
          "text": [
            "\n",
            "Schema:\n",
            "Schema([('Carat Weight', Float64), ('Cut', String), ('Color', String), ('Clarity', String), ('Polish', String), ('Symmetry', String), ('Report', String), ('Price', Int64)])\n"
          ]
        }
      ],
      "source": [
        "# Your code here:\n",
        "print(\"\\nSchema:\")\n",
        "print(df.schema)"
      ]
    },
    {
      "cell_type": "markdown",
      "metadata": {
        "id": "fAOIhlpN8i-y"
      },
      "source": [
        "### Question 3: \"When I look at one line in this database, what am I looking at?\"\n",
        "\n",
        "Explain in business terms:"
      ]
    },
    {
      "cell_type": "markdown",
      "metadata": {
        "id": "4RdHxqCP8i-y"
      },
      "source": [
        "**Your answer:** Each row represents: An individual diamond and its specific characteristics."
      ]
    },
    {
      "cell_type": "markdown",
      "metadata": {
        "id": "Y-Z2J_dM8i-y"
      },
      "source": [
        "## Section 2: Strategic Business Questions (20 minutes)\n",
        "\n",
        "The CEO continues: \"Now let's get to the important questions. Our board meeting is tomorrow and I need concrete numbers.\""
      ]
    },
    {
      "cell_type": "markdown",
      "metadata": {
        "id": "0IDjvLOV8i-y"
      },
      "source": [
        "### Question 4: \"We're considering expanding our storage facilities. How many total carats do we have in inventory? I need to know if our vaults can handle the weight.\"\n",
        "\n",
        "Think about what measurement would help answer this."
      ]
    },
    {
      "cell_type": "code",
      "execution_count": null,
      "metadata": {
        "id": "WyWsz47c8i-z",
        "colab": {
          "base_uri": "https://localhost:8080/"
        },
        "outputId": "2acfc8ee-76fc-4b21-aa2d-821f394a5320"
      },
      "outputs": [
        {
          "output_type": "stream",
          "name": "stdout",
          "text": [
            "Total carats in inventory: 8007.120000000001\n"
          ]
        }
      ],
      "source": [
        "# Your code here:\n",
        "total_carats = df[\"Carat Weight\"].sum()\n",
        "print(f\"Total carats in inventory: {total_carats}\")"
      ]
    },
    {
      "cell_type": "markdown",
      "metadata": {
        "id": "j4jQohBU8i-z"
      },
      "source": [
        "### Question 5: \"Our new marketing campaign claims we have 'the widest variety of cuts in the industry.' Can you verify this?\"\n",
        "\n",
        "The CEO wants to know about variety, not quantity."
      ]
    },
    {
      "cell_type": "code",
      "execution_count": null,
      "metadata": {
        "id": "MwXHMEh18i-z",
        "colab": {
          "base_uri": "https://localhost:8080/"
        },
        "outputId": "113922b7-7fca-4d4b-8cf9-cfa3652d501d"
      },
      "outputs": [
        {
          "output_type": "stream",
          "name": "stdout",
          "text": [
            "shape: (1, 1)\n",
            "┌─────┐\n",
            "│ Cut │\n",
            "│ --- │\n",
            "│ u32 │\n",
            "╞═════╡\n",
            "│ 5   │\n",
            "└─────┘\n"
          ]
        }
      ],
      "source": [
        "# Your code here:\n",
        "unique_cuts = df.select(pl.col(\"Cut\").n_unique())\n",
        "print(unique_cuts)"
      ]
    },
    {
      "cell_type": "markdown",
      "metadata": {
        "id": "w57wvDa58i-z"
      },
      "source": [
        "### Question 6: \"I'm meeting with our insurance company. They need to know our price exposure - what's our most and least valuable diamond?\""
      ]
    },
    {
      "cell_type": "code",
      "execution_count": null,
      "metadata": {
        "id": "LeAv39OW8i-z",
        "colab": {
          "base_uri": "https://localhost:8080/"
        },
        "outputId": "d6a1bfbe-7c5a-4da3-fce8-993635ed71dd"
      },
      "outputs": [
        {
          "output_type": "stream",
          "name": "stdout",
          "text": [
            "Most valuable diamond:\n",
            "shape: (1, 8)\n",
            "┌──────────────┬───────┬───────┬─────────┬────────┬──────────┬────────┬────────┐\n",
            "│ Carat Weight ┆ Cut   ┆ Color ┆ Clarity ┆ Polish ┆ Symmetry ┆ Report ┆ Price  │\n",
            "│ ---          ┆ ---   ┆ ---   ┆ ---     ┆ ---    ┆ ---      ┆ ---    ┆ ---    │\n",
            "│ f64          ┆ str   ┆ str   ┆ str     ┆ str    ┆ str      ┆ str    ┆ i64    │\n",
            "╞══════════════╪═══════╪═══════╪═════════╪════════╪══════════╪════════╪════════╡\n",
            "│ 2.79         ┆ Ideal ┆ D     ┆ IF      ┆ EX     ┆ EX       ┆ GIA    ┆ 101561 │\n",
            "└──────────────┴───────┴───────┴─────────┴────────┴──────────┴────────┴────────┘\n",
            "\n",
            "Least valuable diamond:\n",
            "shape: (1, 8)\n",
            "┌──────────────┬──────┬───────┬─────────┬────────┬──────────┬────────┬───────┐\n",
            "│ Carat Weight ┆ Cut  ┆ Color ┆ Clarity ┆ Polish ┆ Symmetry ┆ Report ┆ Price │\n",
            "│ ---          ┆ ---  ┆ ---   ┆ ---     ┆ ---    ┆ ---      ┆ ---    ┆ ---   │\n",
            "│ f64          ┆ str  ┆ str   ┆ str     ┆ str    ┆ str      ┆ str    ┆ i64   │\n",
            "╞══════════════╪══════╪═══════╪═════════╪════════╪══════════╪════════╪═══════╡\n",
            "│ 0.77         ┆ Good ┆ I     ┆ VS1     ┆ VG     ┆ G        ┆ AGSL   ┆ 2184  │\n",
            "└──────────────┴──────┴───────┴─────────┴────────┴──────────┴────────┴───────┘\n"
          ]
        }
      ],
      "source": [
        "# Your code here:\n",
        "# Most valuable diamond\n",
        "most_valuable = df.sort(\"Price\", descending=True).head(1)\n",
        "\n",
        "# Least valuable diamond\n",
        "least_valuable = df.sort(\"Price\").head(1)\n",
        "\n",
        "print(\"Most valuable diamond:\")\n",
        "print(most_valuable)\n",
        "\n",
        "print(\"\\nLeast valuable diamond:\")\n",
        "print(least_valuable)"
      ]
    },
    {
      "cell_type": "markdown",
      "metadata": {
        "id": "_td3t-MY8i-z"
      },
      "source": [
        "### Question 7: \"Which color grades should we focus on in our premium line? I need typical prices across our color spectrum.\"\n",
        "\n",
        "The CEO wants to understand pricing patterns."
      ]
    },
    {
      "cell_type": "code",
      "execution_count": null,
      "metadata": {
        "id": "fpuyJkUF8i-z",
        "colab": {
          "base_uri": "https://localhost:8080/",
          "height": 286
        },
        "outputId": "608717a2-786c-4768-e6e4-8225f8ccfed3"
      },
      "outputs": [
        {
          "output_type": "execute_result",
          "data": {
            "text/plain": [
              "shape: (6, 2)\n",
              "┌───────┬──────────────┐\n",
              "│ Color ┆ median_price │\n",
              "│ ---   ┆ ---          │\n",
              "│ str   ┆ f64          │\n",
              "╞═══════╪══════════════╡\n",
              "│ F     ┆ 8860.0       │\n",
              "│ G     ┆ 8800.0       │\n",
              "│ D     ┆ 7567.0       │\n",
              "│ H     ┆ 7169.0       │\n",
              "│ E     ┆ 7059.5       │\n",
              "│ I     ┆ 6655.0       │\n",
              "└───────┴──────────────┘"
            ],
            "text/html": [
              "<div><style>\n",
              ".dataframe > thead > tr,\n",
              ".dataframe > tbody > tr {\n",
              "  text-align: right;\n",
              "  white-space: pre-wrap;\n",
              "}\n",
              "</style>\n",
              "<small>shape: (6, 2)</small><table border=\"1\" class=\"dataframe\"><thead><tr><th>Color</th><th>median_price</th></tr><tr><td>str</td><td>f64</td></tr></thead><tbody><tr><td>&quot;F&quot;</td><td>8860.0</td></tr><tr><td>&quot;G&quot;</td><td>8800.0</td></tr><tr><td>&quot;D&quot;</td><td>7567.0</td></tr><tr><td>&quot;H&quot;</td><td>7169.0</td></tr><tr><td>&quot;E&quot;</td><td>7059.5</td></tr><tr><td>&quot;I&quot;</td><td>6655.0</td></tr></tbody></table></div>"
            ]
          },
          "metadata": {},
          "execution_count": 22
        }
      ],
      "source": [
        "# Your code here:\n",
        "# Median price by color grade\n",
        "df.group_by(\"Color\").agg(\n",
        "    pl.col(\"Price\").median().alias(\"median_price\")\n",
        ").sort(\"median_price\", descending=True)"
      ]
    },
    {
      "cell_type": "markdown",
      "metadata": {
        "id": "ftwk7qAA8i-z"
      },
      "source": [
        "**Reflection:** After analyzing by color, how has your view of the data changed? What does each row in your result represent now?"
      ]
    },
    {
      "cell_type": "markdown",
      "metadata": {
        "id": "BIF0kJYd8i-z"
      },
      "source": [
        "**Your answer:** New grain = one row per diamond colour, with the median price for that colour"
      ]
    },
    {
      "cell_type": "markdown",
      "metadata": {
        "id": "npK519oh8i-0"
      },
      "source": [
        "## Section 3: Advanced Strategic Analysis (10 minutes)\n",
        "\n",
        "The CEO leans forward: \"These next questions will shape our strategy for next year.\""
      ]
    },
    {
      "cell_type": "markdown",
      "metadata": {
        "id": "jxtf0mGx8i-0"
      },
      "source": [
        "### Question 8: \"We're thinking of specializing in certain clarity grades. For our investor deck, I need a complete breakdown showing: how many diamonds we have in each clarity grade, their typical price, and the total carats we're holding for each grade.\""
      ]
    },
    {
      "cell_type": "code",
      "execution_count": null,
      "metadata": {
        "id": "fwyGbbpQ8i-0",
        "colab": {
          "base_uri": "https://localhost:8080/",
          "height": 318
        },
        "outputId": "3f4ebbd7-6af9-4e52-f108-5ea4c7acd7bb"
      },
      "outputs": [
        {
          "output_type": "execute_result",
          "data": {
            "text/plain": [
              "shape: (7, 4)\n",
              "┌─────────┬───────────────┬──────────────┬──────────────┐\n",
              "│ Clarity ┆ diamond_count ┆ median_price ┆ total_carats │\n",
              "│ ---     ┆ ---           ┆ ---          ┆ ---          │\n",
              "│ str     ┆ u32           ┆ f64          ┆ f64          │\n",
              "╞═════════╪═══════════════╪══════════════╪══════════════╡\n",
              "│ FL      ┆ 4             ┆ 62371.5      ┆ 7.87         │\n",
              "│ IF      ┆ 219           ┆ 12647.0      ┆ 316.0        │\n",
              "│ VVS1    ┆ 285           ┆ 11142.0      ┆ 389.43       │\n",
              "│ VVS2    ┆ 666           ┆ 10266.0      ┆ 876.58       │\n",
              "│ VS1     ┆ 1192          ┆ 9245.0       ┆ 1682.74      │\n",
              "│ VS2     ┆ 1575          ┆ 7568.0       ┆ 2170.81      │\n",
              "│ SI1     ┆ 2059          ┆ 5417.0       ┆ 2563.69      │\n",
              "└─────────┴───────────────┴──────────────┴──────────────┘"
            ],
            "text/html": [
              "<div><style>\n",
              ".dataframe > thead > tr,\n",
              ".dataframe > tbody > tr {\n",
              "  text-align: right;\n",
              "  white-space: pre-wrap;\n",
              "}\n",
              "</style>\n",
              "<small>shape: (7, 4)</small><table border=\"1\" class=\"dataframe\"><thead><tr><th>Clarity</th><th>diamond_count</th><th>median_price</th><th>total_carats</th></tr><tr><td>str</td><td>u32</td><td>f64</td><td>f64</td></tr></thead><tbody><tr><td>&quot;FL&quot;</td><td>4</td><td>62371.5</td><td>7.87</td></tr><tr><td>&quot;IF&quot;</td><td>219</td><td>12647.0</td><td>316.0</td></tr><tr><td>&quot;VVS1&quot;</td><td>285</td><td>11142.0</td><td>389.43</td></tr><tr><td>&quot;VVS2&quot;</td><td>666</td><td>10266.0</td><td>876.58</td></tr><tr><td>&quot;VS1&quot;</td><td>1192</td><td>9245.0</td><td>1682.74</td></tr><tr><td>&quot;VS2&quot;</td><td>1575</td><td>7568.0</td><td>2170.81</td></tr><tr><td>&quot;SI1&quot;</td><td>2059</td><td>5417.0</td><td>2563.69</td></tr></tbody></table></div>"
            ]
          },
          "metadata": {},
          "execution_count": 24
        }
      ],
      "source": [
        "# Your code here:\n",
        "df.group_by(\"Clarity\").agg([\n",
        "    pl.len().alias(\"diamond_count\"),\n",
        "    pl.col(\"Price\").median().alias(\"median_price\"),\n",
        "    pl.col(\"Carat Weight\").sum().alias(\"total_carats\")\n",
        "]).sort(\"median_price\", descending=True)"
      ]
    },
    {
      "cell_type": "markdown",
      "metadata": {
        "id": "oJIPDJUB8i-0"
      },
      "source": [
        "### Question 9: \"My luxury competitor claims they have the best prices for every cut-color combination. Show me our pricing structure across these combinations - I want to see where we're competitive.\""
      ]
    },
    {
      "cell_type": "code",
      "execution_count": null,
      "metadata": {
        "id": "rFMvCysv8i-0",
        "colab": {
          "base_uri": "https://localhost:8080/",
          "height": 443
        },
        "outputId": "6375ced9-aac7-4f6e-bb83-04163f6314bc"
      },
      "outputs": [
        {
          "output_type": "execute_result",
          "data": {
            "text/plain": [
              "shape: (30, 3)\n",
              "┌───────────┬───────┬──────────────┐\n",
              "│ Cut       ┆ Color ┆ median_price │\n",
              "│ ---       ┆ ---   ┆ ---          │\n",
              "│ str       ┆ str   ┆ f64          │\n",
              "╞═══════════╪═══════╪══════════════╡\n",
              "│ Fair      ┆ D     ┆ 5040.0       │\n",
              "│ Fair      ┆ E     ┆ 4908.5       │\n",
              "│ Fair      ┆ F     ┆ 4628.0       │\n",
              "│ Fair      ┆ G     ┆ 4646.0       │\n",
              "│ Fair      ┆ H     ┆ 4358.0       │\n",
              "│ …         ┆ …     ┆ …            │\n",
              "│ Very Good ┆ E     ┆ 6703.0       │\n",
              "│ Very Good ┆ F     ┆ 8330.0       │\n",
              "│ Very Good ┆ G     ┆ 8249.0       │\n",
              "│ Very Good ┆ H     ┆ 6564.0       │\n",
              "│ Very Good ┆ I     ┆ 6684.0       │\n",
              "└───────────┴───────┴──────────────┘"
            ],
            "text/html": [
              "<div><style>\n",
              ".dataframe > thead > tr,\n",
              ".dataframe > tbody > tr {\n",
              "  text-align: right;\n",
              "  white-space: pre-wrap;\n",
              "}\n",
              "</style>\n",
              "<small>shape: (30, 3)</small><table border=\"1\" class=\"dataframe\"><thead><tr><th>Cut</th><th>Color</th><th>median_price</th></tr><tr><td>str</td><td>str</td><td>f64</td></tr></thead><tbody><tr><td>&quot;Fair&quot;</td><td>&quot;D&quot;</td><td>5040.0</td></tr><tr><td>&quot;Fair&quot;</td><td>&quot;E&quot;</td><td>4908.5</td></tr><tr><td>&quot;Fair&quot;</td><td>&quot;F&quot;</td><td>4628.0</td></tr><tr><td>&quot;Fair&quot;</td><td>&quot;G&quot;</td><td>4646.0</td></tr><tr><td>&quot;Fair&quot;</td><td>&quot;H&quot;</td><td>4358.0</td></tr><tr><td>&hellip;</td><td>&hellip;</td><td>&hellip;</td></tr><tr><td>&quot;Very Good&quot;</td><td>&quot;E&quot;</td><td>6703.0</td></tr><tr><td>&quot;Very Good&quot;</td><td>&quot;F&quot;</td><td>8330.0</td></tr><tr><td>&quot;Very Good&quot;</td><td>&quot;G&quot;</td><td>8249.0</td></tr><tr><td>&quot;Very Good&quot;</td><td>&quot;H&quot;</td><td>6564.0</td></tr><tr><td>&quot;Very Good&quot;</td><td>&quot;I&quot;</td><td>6684.0</td></tr></tbody></table></div>"
            ]
          },
          "metadata": {},
          "execution_count": 25
        }
      ],
      "source": [
        "# Your code here:\n",
        "df.group_by([\"Cut\", \"Color\"]).agg([\n",
        "    pl.col(\"Price\").median().alias(\"median_price\")\n",
        "]).sort([\"Cut\", \"Color\"])\n"
      ]
    },
    {
      "cell_type": "markdown",
      "metadata": {
        "id": "Xfd7yEvz8i-0"
      },
      "source": [
        "**Reflection:** How specific is your analysis now? What level of detail does each row represent?"
      ]
    },
    {
      "cell_type": "markdown",
      "metadata": {
        "id": "USM7t16x8i-0"
      },
      "source": [
        "**Your answer:** New grain = per cut–color combination"
      ]
    },
    {
      "cell_type": "markdown",
      "metadata": {
        "id": "_o-UM78P8i-0"
      },
      "source": [
        "### Question 10: URGENT - \"Our biggest client is interested in purchasing entire inventory segments. They asked: 'Which color-cut combinations represent your highest total inventory value?' Show me the top 5 most valuable inventory segments by total worth, and include how many diamonds are in each segment.\"\n",
        "\n",
        "This is critical for tomorrow's negotiation."
      ]
    },
    {
      "cell_type": "code",
      "execution_count": null,
      "metadata": {
        "id": "4C4TX6dH8i-0",
        "colab": {
          "base_uri": "https://localhost:8080/",
          "height": 255
        },
        "outputId": "cc3a37fa-a86d-4fba-ebc3-de6aacd3922d"
      },
      "outputs": [
        {
          "output_type": "execute_result",
          "data": {
            "text/plain": [
              "shape: (5, 5)\n",
              "┌───────────┬───────┬─────────────┬────────────────┬──────────────┐\n",
              "│ Cut       ┆ Color ┆ total_value ┆ count_diamonds ┆ total_carats │\n",
              "│ ---       ┆ ---   ┆ ---         ┆ ---            ┆ ---          │\n",
              "│ str       ┆ str   ┆ i64         ┆ u32            ┆ f64          │\n",
              "╞═══════════╪═══════╪═════════════╪════════════════╪══════════════╡\n",
              "│ Ideal     ┆ G     ┆ 9363514     ┆ 690            ┆ 966.9        │\n",
              "│ Very Good ┆ G     ┆ 7140620     ┆ 578            ┆ 795.4        │\n",
              "│ Very Good ┆ F     ┆ 5648327     ┆ 455            ┆ 592.77       │\n",
              "│ Ideal     ┆ F     ┆ 5346782     ┆ 363            ┆ 502.01       │\n",
              "│ Ideal     ┆ H     ┆ 5279687     ┆ 458            ┆ 653.15       │\n",
              "└───────────┴───────┴─────────────┴────────────────┴──────────────┘"
            ],
            "text/html": [
              "<div><style>\n",
              ".dataframe > thead > tr,\n",
              ".dataframe > tbody > tr {\n",
              "  text-align: right;\n",
              "  white-space: pre-wrap;\n",
              "}\n",
              "</style>\n",
              "<small>shape: (5, 5)</small><table border=\"1\" class=\"dataframe\"><thead><tr><th>Cut</th><th>Color</th><th>total_value</th><th>count_diamonds</th><th>total_carats</th></tr><tr><td>str</td><td>str</td><td>i64</td><td>u32</td><td>f64</td></tr></thead><tbody><tr><td>&quot;Ideal&quot;</td><td>&quot;G&quot;</td><td>9363514</td><td>690</td><td>966.9</td></tr><tr><td>&quot;Very Good&quot;</td><td>&quot;G&quot;</td><td>7140620</td><td>578</td><td>795.4</td></tr><tr><td>&quot;Very Good&quot;</td><td>&quot;F&quot;</td><td>5648327</td><td>455</td><td>592.77</td></tr><tr><td>&quot;Ideal&quot;</td><td>&quot;F&quot;</td><td>5346782</td><td>363</td><td>502.01</td></tr><tr><td>&quot;Ideal&quot;</td><td>&quot;H&quot;</td><td>5279687</td><td>458</td><td>653.15</td></tr></tbody></table></div>"
            ]
          },
          "metadata": {},
          "execution_count": 26
        }
      ],
      "source": [
        "# Your code here:\n",
        "# Q10 — Top 5 most valuable cut–color segments\n",
        "top5_segments = (\n",
        "    df\n",
        "    .group_by([\"Cut\", \"Color\"])\n",
        "    .agg([\n",
        "        pl.col(\"Price\").sum().alias(\"total_value\"),\n",
        "        pl.len().alias(\"count_diamonds\"),\n",
        "        pl.col(\"Carat Weight\").sum().alias(\"total_carats\")  # optional but useful\n",
        "    ])\n",
        "    .sort(\"total_value\", descending=True)\n",
        "    .head(5)\n",
        ")\n",
        "\n",
        "top5_segments\n"
      ]
    },
    {
      "cell_type": "markdown",
      "metadata": {
        "id": "Z6B4R8KV8i-0"
      },
      "source": [
        "## Debrief\n",
        "\n",
        "Congratulations! You've just completed your first day as the diamond company's data analyst.\n",
        "\n",
        "Remember:\n",
        "- CEOs speak in business language, not technical terms\n",
        "- Always understand what each row represents before analyzing\n",
        "- Business questions contain clues about which operations to use"
      ]
    }
  ],
  "metadata": {
    "kernelspec": {
      "display_name": "Python 3",
      "language": "python",
      "name": "python3"
    },
    "language_info": {
      "codemirror_mode": {
        "name": "ipython",
        "version": 3
      },
      "file_extension": ".py",
      "mimetype": "text/x-python",
      "name": "python",
      "nbconvert_exporter": "python",
      "pygments_lexer": "ipython3",
      "version": "3.12.0"
    },
    "colab": {
      "provenance": []
    }
  },
  "nbformat": 4,
  "nbformat_minor": 0
}